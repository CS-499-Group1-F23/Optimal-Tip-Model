{
 "cells": [
  {
   "cell_type": "code",
   "execution_count": 13,
   "metadata": {},
   "outputs": [
    {
     "name": "stdout",
     "output_type": "stream",
     "text": [
      "(5266, 8)\n",
      "(4516, 8)\n",
      "(1840, 8)\n"
     ]
    }
   ],
   "source": [
    "import pandas as pd\n",
    "\n",
    "# Read the CSV file into a DataFrame\n",
    "df = pd.read_csv(\"Data/order-initial-dataset.csv\")\n",
    "\n",
    "# Convert 'Source_actor' column values to lowercase and then filter\n",
    "filtered_df = df[~df['Source_actor'].str.lower().isin(['ubereats', 'doordash', 'grubhub'])]\n",
    "\n",
    "# Save the filtered DataFrame to a new CSV file\n",
    "filtered_df.to_csv(\"test.csv\", index=False)\n",
    "print(df.shape)\n",
    "print(filtered_df.shape)\n",
    "# Filter 'Tip_USD' column to have values greater than 1\n",
    "bad_tip = filtered_df[filtered_df['Tip_USD'] > 1]\n",
    "print(bad_tip.shape)"
   ]
  }
 ],
 "metadata": {
  "kernelspec": {
   "display_name": "Python 3",
   "language": "python",
   "name": "python3"
  },
  "language_info": {
   "codemirror_mode": {
    "name": "ipython",
    "version": 3
   },
   "file_extension": ".py",
   "mimetype": "text/x-python",
   "name": "python",
   "nbconvert_exporter": "python",
   "pygments_lexer": "ipython3",
   "version": "3.11.2"
  },
  "orig_nbformat": 4
 },
 "nbformat": 4,
 "nbformat_minor": 2
}
